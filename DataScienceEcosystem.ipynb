{
 "cells": [
  {
   "cell_type": "markdown",
   "id": "b653dfe2-1866-4f2f-81c6-8b08603271c5",
   "metadata": {},
   "source": [
    "# Data Science Tools and Ecosystem"
   ]
  },
  {
   "cell_type": "markdown",
   "id": "91c2a788-b545-4dc6-9479-6b7d776cb9da",
   "metadata": {},
   "source": [
    "In this notebook, Data Science Tools and Ecosystem are summarized."
   ]
  },
  {
   "cell_type": "markdown",
   "id": "e546ed41-e02a-41dd-b139-493c4a5b32ca",
   "metadata": {},
   "source": [
    "**Objectives:**\n",
    "\n",
    "Best Practices for Data Analysis\r\n",
    "\r\n",
    "1. **Understand the Problem**: Clearly define the problem and objectives before starting the analysis.\r\n",
    "2. **Data Cleaning**: Ensure the data is clean, consistent, and free from errors or missing values.\r\n",
    "3. **Exploratory Data Analysis (EDA)**: Perform EDA to understand patterns, trends, and relationships in the data.\r\n",
    "4. **Document Your Work**: Keep your code, assumptions, and findings well-documented for reproducibility.\r\n",
    "5. **Use Version Control**: Track changes in your code and data using tools likholders.ysis"
   ]
  },
  {
   "attachments": {},
   "cell_type": "markdown",
   "id": "4053df47-c6b1-49c3-a337-96e7ad7ce4fd",
   "metadata": {},
   "source": [
    "Some of the popular languages that Data Scientists use are:\n",
    "\n",
    "1. Python\n",
    "2. R\n",
    "3. SQL"
   ]
  },
  {
   "cell_type": "markdown",
   "id": "bdd80ff7-58cd-4b68-8981-1237f7a229f1",
   "metadata": {},
   "source": [
    "Some of the commonly used libraries used by Data Scientists include:\n",
    "\n",
    "1. Pandas\n",
    "2. NumPy\n",
    "3. Matplotlib"
   ]
  },
  {
   "cell_type": "markdown",
   "id": "6e675709-d624-41d3-9826-a8af95793bba",
   "metadata": {},
   "source": [
    "| Data Science Tools |\n",
    "|--------------------|\n",
    "| Jupyter Notebook   |\n",
    "| VS Code             |\n",
    "| RStudio            |"
   ]
  },
  {
   "cell_type": "markdown",
   "id": "915cfb0f-84c1-4bd0-9793-1a2f6b3a26cd",
   "metadata": {},
   "source": [
    "### Below are a few examples of evaluating arithmetic expressions in Python:"
   ]
  },
  {
   "cell_type": "code",
   "execution_count": 39,
   "id": "5eb0e9ea-8f5c-42d7-bd8a-34d5345d953b",
   "metadata": {},
   "outputs": [
    {
     "data": {
      "text/plain": [
       "17"
      ]
     },
     "execution_count": 39,
     "metadata": {},
     "output_type": "execute_result"
    }
   ],
   "source": [
    "#This is a simple arithmetic expression to multiply and then add integers.\n",
    "\n",
    "(3*4)+5"
   ]
  },
  {
   "cell_type": "code",
   "execution_count": 41,
   "id": "d29c8ab5-5294-42cb-8f52-5dfe590838e1",
   "metadata": {},
   "outputs": [
    {
     "data": {
      "text/plain": [
       "3.3333333333333335"
      ]
     },
     "execution_count": 41,
     "metadata": {},
     "output_type": "execute_result"
    }
   ],
   "source": [
    "#This will convert 200 minutes to hours by diving by 60.\n",
    "\n",
    "200/60"
   ]
  },
  {
   "cell_type": "markdown",
   "id": "8a57af99-f966-4e1c-a7e8-e025ad8e46b7",
   "metadata": {},
   "source": [
    "## Author\n",
    "Aylin Kaya KORU"
   ]
  }
 ],
 "metadata": {
  "kernelspec": {
   "display_name": "anaconda-ai-2024.04-py310",
   "language": "python",
   "name": "conda-env-anaconda-ai-2024.04-py310-py"
  },
  "language_info": {
   "codemirror_mode": {
    "name": "ipython",
    "version": 3
   },
   "file_extension": ".py",
   "mimetype": "text/x-python",
   "name": "python",
   "nbconvert_exporter": "python",
   "pygments_lexer": "ipython3",
   "version": "3.10.13"
  }
 },
 "nbformat": 4,
 "nbformat_minor": 5
}
